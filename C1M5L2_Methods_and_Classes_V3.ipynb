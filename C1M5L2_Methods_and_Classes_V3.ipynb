{
 "cells": [
  {
   "cell_type": "markdown",
   "metadata": {},
   "source": [
    "# Practice Notebook: Methods and Classes"
   ]
  },
  {
   "cell_type": "markdown",
   "metadata": {},
   "source": [
    "The code below defines an *Elevator* class. The elevator has a current floor, it also has a top and a bottom floor that are the minimum and maximum floors it can go to. Fill in the blanks to make the elevator go through the floors requested."
   ]
  },
  {
   "cell_type": "markdown",
   "metadata": {},
   "source": [
    "El siguiente código define una clase *Ascensor*. El ascensor tiene un piso actual, también tiene un piso superior y otro inferior que son los pisos mínimo y máximo a los que puede ir. Complete los espacios en blanco para que el ascensor pase por los pisos solicitados."
   ]
  },
  {
   "cell_type": "code",
   "execution_count": 50,
   "metadata": {},
   "outputs": [],
   "source": [
    "class Elevator:\n",
    "    _piso_ = 1\n",
    "    def __init__(self, bottom, top, current):\n",
    "        \"\"\"Initializes the Elevator instance.\"\"\"\n",
    "        self.bottom = bottom #piso inferior\n",
    "        self.top = top #piso superior\n",
    "        self.current = current #piso actual\n",
    "    def up(self):\n",
    "        \"\"\"Makes the elevator go up one floor.\"\"\"\n",
    "        # Tenga en cuenta que el ascensor no debe pasar por encima del último piso ni por debajo del último piso \n",
    "        if (self.current < self.top ):\n",
    "            self.current = self.current + 1\n",
    "        return self.current \n",
    "    def down(self):\n",
    "        \"\"\"Makes the elevator go down one floor.\"\"\"\n",
    "        ## Tenga en cuenta que el ascensor no debe pasar por encima del último piso ni por debajo del último piso \n",
    "        if (self.current > self.bottom):\n",
    "            self.current = self.current - 1\n",
    "        return self.current\n",
    "    def go_to(self, floor):\n",
    "        \"\"\"Makes the elevator go to the specific floor.\"\"\"\n",
    "        if (self.current < self.top and self.current > self.bottom):\n",
    "            self.current = floor\n",
    "        return self.current\n",
    "    def __str__(self):\n",
    "        return \"Piso actual: {}\".format(self.current)\n",
    "\n",
    "elevator = Elevator(-1, 10, 0)"
   ]
  },
  {
   "cell_type": "markdown",
   "metadata": {},
   "source": [
    "This class is pretty empty and doesn't do much.  To test whether your *Elevator* class is working correctly, run the code blocks below."
   ]
  },
  {
   "cell_type": "markdown",
   "metadata": {},
   "source": [
    "Esta clase está bastante vacía y no hace mucho. Para probar si su clase *Ascensor* funciona correctamente, ejecute los bloques de código a continuación."
   ]
  },
  {
   "cell_type": "code",
   "execution_count": 46,
   "metadata": {},
   "outputs": [
    {
     "data": {
      "text/plain": [
       "1"
      ]
     },
     "execution_count": 46,
     "metadata": {},
     "output_type": "execute_result"
    }
   ],
   "source": [
    "elevator.up() \n",
    "elevator.current #should output 1"
   ]
  },
  {
   "cell_type": "code",
   "execution_count": 47,
   "metadata": {},
   "outputs": [
    {
     "data": {
      "text/plain": [
       "0"
      ]
     },
     "execution_count": 47,
     "metadata": {},
     "output_type": "execute_result"
    }
   ],
   "source": [
    "elevator.down() \n",
    "elevator.current #should output 0"
   ]
  },
  {
   "cell_type": "code",
   "execution_count": 48,
   "metadata": {},
   "outputs": [
    {
     "data": {
      "text/plain": [
       "10"
      ]
     },
     "execution_count": 48,
     "metadata": {},
     "output_type": "execute_result"
    }
   ],
   "source": [
    "elevator.go_to(10) \n",
    "elevator.current #should output 10"
   ]
  },
  {
   "cell_type": "markdown",
   "metadata": {},
   "source": [
    "If you get a **<font color =red>NameError</font>** message, be sure to run the *Elevator* class definition code block first. If you get an **<font color =red>AttributeError</font>** message, be sure to initialize *self.current* in your *Elevator* class."
   ]
  },
  {
   "cell_type": "markdown",
   "metadata": {},
   "source": [
    "Once you've made the above methods output 1, 0 and 10, you've successfully coded the *Elevator* class and its methods. Great work!\n",
    "<br><br>\n",
    "For the up and down methods, did you take into account the top and bottom floors? Keep in mind that the elevator shouldn't go above the top floor or below the bottom floor. To check that out, try the code below and verify if it's working as expected. If it's not, then go back and modify the methods so that this code behaves correctly."
   ]
  },
  {
   "cell_type": "markdown",
   "metadata": {},
   "source": [
    "---"
   ]
  },
  {
   "cell_type": "markdown",
   "metadata": {},
   "source": [
    "\n",
    "Si recibe un mensaje **<font color =red>NameError</font>**, asegúrese de ejecutar primero el bloque de código de definición de clase *Ascensor*. Si recibe un mensaje **<font color =red>AttributeError</font>**, asegúrese de inicializar *self.current* en su clase *Elevator*."
   ]
  },
  {
   "cell_type": "markdown",
   "metadata": {},
   "source": [
    "Una vez que haya hecho que los métodos anteriores generen 1, 0 y 10, habrá codificado con éxito la clase *Ascensor* y sus métodos. ¡Buen trabajo!\n",
    "<br><br>\n",
    "Para los métodos hacia arriba y hacia abajo, ¿tuvo en cuenta los pisos superior e inferior? Tenga en cuenta que el ascensor no debe pasar por encima del último piso ni por debajo del último piso. Para verificar eso, pruebe el código a continuación y verifique si funciona como se esperaba. Si no es así, vuelva atrás y modifique los métodos para que este código se comporte correctamente."
   ]
  },
  {
   "cell_type": "code",
   "execution_count": 49,
   "metadata": {},
   "outputs": [
    {
     "name": "stdout",
     "output_type": "stream",
     "text": [
      "9\n",
      "1\n"
     ]
    }
   ],
   "source": [
    "# Go to the top floor. Try to go up, it should stay. Then go down.\n",
    "elevator.go_to(10)\n",
    "elevator.up()\n",
    "elevator.down()\n",
    "print(elevator.current) # should be 9\n",
    "# Go to the bottom floor. Try to go down, it should stay. Then go up.\n",
    "elevator.go_to(-1)\n",
    "elevator.down()\n",
    "elevator.down()\n",
    "elevator.up()\n",
    "elevator.up()\n",
    "print(elevator.current) # should be 1"
   ]
  },
  {
   "cell_type": "markdown",
   "metadata": {},
   "source": [
    "Now add the __str__ method to your *Elevator* class definition above so that when printing the elevator using the **print( )** method, we get the current floor together with a message. For example, in the 5th floor it should say \"Current floor: 5\""
   ]
  },
  {
   "cell_type": "markdown",
   "metadata": {},
   "source": [
    "Ahora agregue el método __str__ a su definición de clase *Ascensor* anterior para que al imprimir el ascensor usando el método **imprimir()**, obtengamos el piso actual junto con un mensaje. Por ejemplo, en el 5to piso debería decir \"Piso actual: 5\""
   ]
  },
  {
   "cell_type": "code",
   "execution_count": 51,
   "metadata": {},
   "outputs": [
    {
     "name": "stdout",
     "output_type": "stream",
     "text": [
      "Piso actual: 5\n"
     ]
    }
   ],
   "source": [
    "elevator.go_to(5)\n",
    "print(elevator)"
   ]
  },
  {
   "cell_type": "markdown",
   "metadata": {},
   "source": [
    "Remember, Python uses the default method, that prints the position where the object is stored in the computer’s memory.  If your output is something like: <br>\n",
    "> <__main__.Elevator object at 0x7ff6a9ff3fd0>\n",
    "\n",
    "Then you will need to add the special __str__ method, which returns the string that you want to print.  Try again until you get the desired output, \"Current floor: 5\"."
   ]
  },
  {
   "cell_type": "markdown",
   "metadata": {},
   "source": [
    "---"
   ]
  },
  {
   "cell_type": "markdown",
   "metadata": {},
   "source": [
    "\n",
    "Recuerde, Python usa el método predeterminado, que imprime la posición donde se almacena el objeto en la memoria de la computadora. Si su salida es algo como: <br>\n",
    "> <__main__.Elevator object at 0x7ff6a9ff3fd0>\n",
    "Luego deberá agregar el método especial __str__, que devuelve la cadena que desea imprimir. Vuelva a intentarlo hasta que obtenga el resultado deseado, \"Piso actual: 5\"."
   ]
  },
  {
   "cell_type": "markdown",
   "metadata": {},
   "source": [
    "Once you have successfully produced the desired output, you are all done with this practice notebook. Awesome!"
   ]
  },
  {
   "cell_type": "markdown",
   "metadata": {},
   "source": [
    "Una vez que haya producido con éxito el resultado deseado, habrá terminado con este cuaderno de práctica. ¡Impresionante!"
   ]
  }
 ],
 "metadata": {
  "kernelspec": {
   "display_name": "Python 3.10.4 64-bit",
   "language": "python",
   "name": "python3"
  },
  "language_info": {
   "codemirror_mode": {
    "name": "ipython",
    "version": 3
   },
   "file_extension": ".py",
   "mimetype": "text/x-python",
   "name": "python",
   "nbconvert_exporter": "python",
   "pygments_lexer": "ipython3",
   "version": "3.10.4"
  },
  "vscode": {
   "interpreter": {
    "hash": "8dfb18b20b1c5be31ebdb32c9f5f048ff20716d499c9b4ee56ead56f42de095d"
   }
  },
  "widgets": {
   "application/vnd.jupyter.widget-state+json": {
    "state": {},
    "version_major": 2,
    "version_minor": 0
   }
  }
 },
 "nbformat": 4,
 "nbformat_minor": 2
}
